{
 "cells": [
  {
   "cell_type": "code",
   "execution_count": null,
   "metadata": {
    "colab": {
     "base_uri": "https://localhost:8080/"
    },
    "collapsed": true,
    "executionInfo": {
     "elapsed": 23520,
     "status": "ok",
     "timestamp": 1746109949413,
     "user": {
      "displayName": "Charlie Sullivan",
      "userId": "15801928626826115108"
     },
     "user_tz": 240
    },
    "id": "h7mtr3VjVpYZ",
    "outputId": "323340cd-d98f-4557-dc54-3c3038418b09"
   },
   "outputs": [],
   "source": [
    "# if running in Colab run this first, otherwise make sure flair[word-embeddings] is installed\n",
    "import torch\n",
    "!pip install flair[word-embeddings]\n",
    "import flair\n",
    "# it looks like we have to restart the Colab runtime after installation"
   ]
  },
  {
   "cell_type": "code",
   "execution_count": null,
   "metadata": {
    "colab": {
     "base_uri": "https://localhost:8080/"
    },
    "collapsed": true,
    "executionInfo": {
     "elapsed": 1789929,
     "status": "ok",
     "timestamp": 1746113234339,
     "user": {
      "displayName": "Charlie Sullivan",
      "userId": "15801928626826115108"
     },
     "user_tz": 240
    },
    "id": "PMT5IHvb2x0d",
    "outputId": "0c27bb24-d4b8-4c98-8b54-f05c7f81c761"
   },
   "outputs": [],
   "source": [
    "import os\n",
    "from pathlib import Path\n",
    "\n",
    "from flair.data import Corpus, Sentence\n",
    "from flair.datasets import ColumnCorpus\n",
    "from flair.embeddings import WordEmbeddings, FlairEmbeddings, StackedEmbeddings, CharacterEmbeddings\n",
    "from flair.models import SequenceTagger\n",
    "from flair.trainers import ModelTrainer\n",
    "\n",
    "\n",
    "if __name__ == \"__main__\":\n",
    "    # load corpus\n",
    "    columns = {0: 'text', 1: 'ner'}\n",
    "    data_folder = '/home/dataset' # upload dataset to this folder in Colab\n",
    "    corpus: Corpus = ColumnCorpus(data_folder, columns,\n",
    "                                train_file='train.txt',\n",
    "                                test_file='test.txt',\n",
    "                                dev_file='dev.txt',\n",
    "                                column_delimiter='\\t')\n",
    "\n",
    "    # extract the labels from the corpus\n",
    "    label_type = 'ner'\n",
    "    label_dict = corpus.make_label_dictionary(label_type=label_type, add_unk=False)\n",
    "\n",
    "    # train model\n",
    "    embedding_types = [\n",
    "        WordEmbeddings('twitter'),\n",
    "        FlairEmbeddings('news-forward'),\n",
    "        FlairEmbeddings('news-backward')\n",
    "    ]\n",
    "\n",
    "    embeddings = StackedEmbeddings(embeddings=embedding_types)\n",
    "\n",
    "    tagger = SequenceTagger(hidden_size=256,\n",
    "                            embeddings=embeddings,\n",
    "                            tag_dictionary=label_dict,\n",
    "                            tag_type=label_type,\n",
    "                            tag_format=\"BIO\")\n",
    "\n",
    "    trainer = ModelTrainer(tagger, corpus)\n",
    "\n",
    "    path = '/home/model/' # model is saved here\n",
    "    trainer.train(path,\n",
    "                    learning_rate=0.05,\n",
    "                    mini_batch_size=32,\n",
    "                    max_epochs=25)\n",
    "    \n",
    "    # tuning learning rate - all produced lower scores than 0.05\n",
    "    learning_rates = [0.01, 0.005, 0.0025, 0.001]\n",
    "    for lr in learning_rates:\n",
    "        path = '/home/model-lr-' + str(lr)\n",
    "        trainer.train(path,\n",
    "                      learning_rate=lr,\n",
    "                      mini_batch_size=32,\n",
    "                      max_epochs=25)"
   ]
  }
 ],
 "metadata": {
  "accelerator": "GPU",
  "colab": {
   "gpuType": "T4",
   "provenance": [],
   "toc_visible": true
  },
  "kernelspec": {
   "display_name": "Python 3",
   "name": "python3"
  },
  "language_info": {
   "name": "python"
  }
 },
 "nbformat": 4,
 "nbformat_minor": 0
}
